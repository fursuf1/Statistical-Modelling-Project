{
 "cells": [
  {
   "cell_type": "markdown",
   "metadata": {},
   "source": [
    "Build a regression model."
   ]
  },
  {
   "cell_type": "code",
   "execution_count": 11,
   "metadata": {},
   "outputs": [
    {
     "name": "stdout",
     "output_type": "stream",
     "text": [
      "Mean Squared Error: 0.0013461288155181368\n",
      "R-squared: 0.9932640934954526\n"
     ]
    }
   ],
   "source": [
    "import pandas as pd\n",
    "from sklearn.model_selection import train_test_split\n",
    "from sklearn.linear_model import LinearRegression\n",
    "from sklearn.metrics import mean_squared_error, r2_score\n",
    "\n",
    "# Path to the CSV files\n",
    "merged_yelp_csv_path = \"merged_bike_stations_with_yelp.csv\"\n",
    "merged_foursquare_csv_path = \"merged_bike_stations_with_foursquare.csv\"\n",
    "\n",
    "# Read CSV files into DataFrames\n",
    "bike_stations_with_yelp = pd.read_csv(merged_yelp_csv_path)\n",
    "bike_stations_with_foursquare = pd.read_csv(merged_foursquare_csv_path)\n",
    "\n",
    "# Merge the Yelp and Foursquare DataFrames\n",
    "merged_data = bike_stations_with_yelp.merge(bike_stations_with_foursquare, how='left', on=['station_latitude', 'station_longitude'])\n",
    "\n",
    "# Define the features and target\n",
    "yelp_rating_column = 'rating_x_x'  # Yelp rating\n",
    "foursquare_rating_column = 'rating_x_y'  # Foursquare rating\n",
    "features = [foursquare_rating_column]\n",
    "target = yelp_rating_column  # Predicting Yelp rating based on Foursquare rating\n",
    "\n",
    "# Drop rows with missing values in the target or feature columns\n",
    "merged_data.dropna(subset=[target, features[0]], inplace=True)\n",
    "\n",
    "# Split the data into training and testing sets\n",
    "X = merged_data[features]\n",
    "y = merged_data[target]\n",
    "X_train, X_test, y_train, y_test = train_test_split(X, y, test_size=0.2, random_state=42)\n",
    "\n",
    "# Create and fit the linear regression model\n",
    "model = LinearRegression()\n",
    "model.fit(X_train, y_train)\n",
    "\n",
    "# Make predictions on the test set\n",
    "y_pred = model.predict(X_test)\n",
    "\n",
    "# Evaluate the model\n",
    "mse = mean_squared_error(y_test, y_pred)\n",
    "r2 = r2_score(y_test, y_pred)\n",
    "\n",
    "print(\"Mean Squared Error:\", mse)\n",
    "print(\"R-squared:\", r2)\n"
   ]
  },
  {
   "cell_type": "markdown",
   "metadata": {},
   "source": [
    "Provide model output and an interpretation of the results. "
   ]
  },
  {
   "cell_type": "code",
   "execution_count": 15,
   "metadata": {},
   "outputs": [
    {
     "name": "stdout",
     "output_type": "stream",
     "text": [
      "Mean Squared Error: 0.0013461288155181368\n",
      "R-squared: 0.9932640934954526\n",
      "\n",
      "The model exhibits a high level of accuracy and goodness of fit:\n",
      "Mean Squared Error (MSE) is extremely low, indicating accurate predictions.\n",
      "R-squared value of approximately 0.993 indicates that around 99.3% of the variability in Yelp ratings can be explained by Foursquare ratings.\n",
      "The strong performance suggests a strong relationship between Foursquare ratings and Yelp ratings in this context.\n",
      "However, further investigation is recommended to ensure data quality and avoid potential sources of data leakage.\n"
     ]
    }
   ],
   "source": [
    "# Model results interpretation\n",
    "print(\"Mean Squared Error:\", mse)\n",
    "print(\"R-squared:\", r2)\n",
    "print(\"\\nThe model exhibits a high level of accuracy and goodness of fit:\")\n",
    "print(\"Mean Squared Error (MSE) is extremely low, indicating accurate predictions.\")\n",
    "print(\"R-squared value of approximately 0.993 indicates that around 99.3% of the variability in Yelp ratings can be explained by Foursquare ratings.\")\n",
    "print(\"The strong performance suggests a strong relationship between Foursquare ratings and Yelp ratings in this context.\")\n",
    "print(\"However, further investigation is recommended to ensure data quality and avoid potential sources of data leakage.\")\n"
   ]
  },
  {
   "cell_type": "markdown",
   "metadata": {},
   "source": [
    "# Stretch"
   ]
  },
  {
   "cell_type": "markdown",
   "metadata": {},
   "source": [
    "How can you turn the regression model into a classification model?"
   ]
  },
  {
   "cell_type": "code",
   "execution_count": 23,
   "metadata": {},
   "outputs": [
    {
     "name": "stdout",
     "output_type": "stream",
     "text": [
      "Number of classes in the target variable: 1\n",
      "Cannot create a classification model with only one class.\n",
      "At least two classes are required for classification.\n"
     ]
    }
   ],
   "source": [
    "print(\"Number of classes in the target variable:\", len(y_train.unique()))\n",
    "if len(y_train.unique()) < 2:\n",
    "    print(\"Cannot create a classification model with only one class.\")\n",
    "    print(\"At least two classes are required for classification.\")\n"
   ]
  },
  {
   "cell_type": "code",
   "execution_count": null,
   "metadata": {},
   "outputs": [],
   "source": []
  }
 ],
 "metadata": {
  "kernelspec": {
   "display_name": "Python 3 (ipykernel)",
   "language": "python",
   "name": "python3"
  },
  "language_info": {
   "codemirror_mode": {
    "name": "ipython",
    "version": 3
   },
   "file_extension": ".py",
   "mimetype": "text/x-python",
   "name": "python",
   "nbconvert_exporter": "python",
   "pygments_lexer": "ipython3",
   "version": "3.11.3"
  }
 },
 "nbformat": 4,
 "nbformat_minor": 4
}
